{
 "cells": [
  {
   "cell_type": "code",
   "execution_count": 102,
   "id": "af38875c",
   "metadata": {},
   "outputs": [],
   "source": [
    "import pandas as pd\n",
    "\n",
    "# Read the Excel file\n",
    "df = pd.read_csv('brands.csv')\n",
    "\n",
    "# Clean the data\n",
    "\n",
    "# Remove null rows and columns\n",
    "df.dropna(axis=0, how='all', inplace=True) # remove null rows\n",
    "df.dropna(axis=1, how='all', inplace=True) # remove null columns\n",
    "\n",
    "# Drop an array of columns\n",
    "cols_to_keep = ['ID', 'BARCODE', 'BRAND_CODE', 'CATEGORY', 'CATEGORY_CODE', 'NAME' ]\n",
    "# Keep only required columns\n",
    "df = df[cols_to_keep]\n",
    "\n",
    "#df.drop(cols_to_drop, axis=1, inplace=True) # drop columns named 'bid' and 'sid'\n",
    "\n",
    "#remove leading/trailing whitespace and replace NaN values with 0\n",
    "df = df.apply(lambda x: x.str.strip() if x.dtype == \"object\" else x) # Remove leading/trailing whitespace\n",
    "\n",
    "\n",
    "#df.fillna(0, inplace=True) # Replace NaN values with 0\n",
    "\n",
    "# Save the cleaned data to a new Excel file\n",
    "df.to_csv('brands_new.csv', index=False)\n"
   ]
  },
  {
   "cell_type": "code",
   "execution_count": 103,
   "id": "8f565fe3",
   "metadata": {},
   "outputs": [],
   "source": [
    "import pandas as pd\n",
    "\n",
    "# Read the Excel file\n",
    "df = pd.read_csv('users.csv')\n",
    "\n",
    "# Clean the data\n",
    "\n",
    "# Remove null rows and columns\n",
    "df.dropna(axis=0, how='all', inplace=True) # remove null rows\n",
    "df.dropna(axis=1, how='all', inplace=True) # remove null columns\n",
    "\n",
    "#remove leading/trailing whitespace and replace NaN values with 0\n",
    "df = df.apply(lambda x: x.str.strip() if x.dtype == \"object\" else x) # Remove leading/trailing whitespace\n",
    "df['SIGN_UP_PLATFORM'].fillna('unknown', inplace=True)\n",
    "\n",
    "# Save the cleaned data to a new Excel file\n",
    "df.to_csv('users_new.csv', index=False)\n"
   ]
  },
  {
   "cell_type": "code",
   "execution_count": 104,
   "id": "34655013",
   "metadata": {},
   "outputs": [],
   "source": [
    "import pandas as pd\n",
    "\n",
    "# Read the Excel file\n",
    "df = pd.read_csv('receipts.csv')\n",
    "\n",
    "# Clean the data\n",
    "\n",
    "# Remove null rows and columns\n",
    "df.dropna(axis=0, how='all', inplace=True) # remove null rows\n",
    "df.dropna(axis=1, how='all', inplace=True) # remove null columns\n",
    "\n",
    "# Drop an array of columns\n",
    "cols_to_keep = ['ID', 'STORE_NAME', 'PURCHASE_DATE', 'TOTAL_SPENT', 'USER_ID', 'DATE_SCANNED' ]\n",
    "# Keep only required columns\n",
    "df = df[cols_to_keep]\n",
    "\n",
    "#remove leading/trailing whitespace and replace NaN values with 0\n",
    "df = df.apply(lambda x: x.str.strip() if x.dtype == \"object\" else x) # Remove leading/trailing whitespace\n",
    "\n",
    "# Save the cleaned data to a new Excel file\n",
    "df.to_csv('receipts_new.csv', index=False)"
   ]
  },
  {
   "cell_type": "code",
   "execution_count": 105,
   "id": "6529cbd0",
   "metadata": {},
   "outputs": [],
   "source": [
    "import pandas as pd\n",
    "\n",
    "# Read the Excel file\n",
    "df = pd.read_csv('receipt_items.csv')\n",
    "\n",
    "# Clean the data\n",
    "\n",
    "# Remove null rows and columns\n",
    "df.dropna(axis=0, how='all', inplace=True) # remove null rows\n",
    "df.dropna(axis=1, how='all', inplace=True) # remove null columns\n",
    "\n",
    "# Drop an array of columns\n",
    "cols_to_keep = ['REWARDS_RECEIPT_ID', 'REWARDS_RECEIPT_ITEM_ID', 'BARCODE', 'BRAND_CODE', 'TOTAL_FINAL_PRICE', 'POINTS_EARNED', 'QUANTITY_PURCHASED' ]\n",
    "# Keep only required columns\n",
    "df = df[cols_to_keep]\n",
    "\n",
    "#remove leading/trailing whitespace and replace NaN values with 0\n",
    "df = df.apply(lambda x: x.str.strip() if x.dtype == \"object\" else x) # Remove leading/trailing whitespace\n",
    "\n",
    "\n",
    "# Save the cleaned data to a new Excel file\n",
    "df.to_csv('receipt_items_new.csv', index=False)"
   ]
  }
 ],
 "metadata": {
  "kernelspec": {
   "display_name": "Python 3 (ipykernel)",
   "language": "python",
   "name": "python3"
  },
  "language_info": {
   "codemirror_mode": {
    "name": "ipython",
    "version": 3
   },
   "file_extension": ".py",
   "mimetype": "text/x-python",
   "name": "python",
   "nbconvert_exporter": "python",
   "pygments_lexer": "ipython3",
   "version": "3.9.12"
  }
 },
 "nbformat": 4,
 "nbformat_minor": 5
}
