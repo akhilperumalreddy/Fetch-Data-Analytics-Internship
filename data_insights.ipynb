{
 "cells": [
  {
   "cell_type": "markdown",
   "id": "f69550af",
   "metadata": {},
   "source": [
    "If you do not have this extension installed please type \n",
    "\n",
    "pip install ipython-sql"
   ]
  },
  {
   "cell_type": "code",
   "execution_count": 1,
   "id": "ed45824a",
   "metadata": {},
   "outputs": [
    {
     "data": {
      "text/plain": [
       "'Connected: @fetchAssignment.db'"
      ]
     },
     "execution_count": 1,
     "metadata": {},
     "output_type": "execute_result"
    }
   ],
   "source": [
    "%load_ext sql\n",
    "%sql sqlite:///fetchAssignment.db"
   ]
  },
  {
   "cell_type": "code",
   "execution_count": 2,
   "id": "88e566d0",
   "metadata": {},
   "outputs": [
    {
     "name": "stdout",
     "output_type": "stream",
     "text": [
      " * sqlite:///fetchAssignment.db\n",
      "Done.\n"
     ]
    },
    {
     "data": {
      "text/html": [
       "<table>\n",
       "    <thead>\n",
       "        <tr>\n",
       "            <th>store</th>\n",
       "            <th>price</th>\n",
       "        </tr>\n",
       "    </thead>\n",
       "    <tbody>\n",
       "        <tr>\n",
       "            <td>WALMART</td>\n",
       "            <td>383000.0499999999</td>\n",
       "        </tr>\n",
       "        <tr>\n",
       "            <td>BURLINGTON</td>\n",
       "            <td>158594.0500000001</td>\n",
       "        </tr>\n",
       "        <tr>\n",
       "            <td>THE HOME DEPOT</td>\n",
       "            <td>144646.99000000005</td>\n",
       "        </tr>\n",
       "        <tr>\n",
       "            <td>COSTCO</td>\n",
       "            <td>131248.31999999992</td>\n",
       "        </tr>\n",
       "        <tr>\n",
       "            <td>380 LENOX MEAT CORPORATION</td>\n",
       "            <td>125721.85000000002</td>\n",
       "        </tr>\n",
       "        <tr>\n",
       "            <td>AMAZON</td>\n",
       "            <td>105638.49000000129</td>\n",
       "        </tr>\n",
       "        <tr>\n",
       "            <td>SAM&#x27;S CLUB</td>\n",
       "            <td>95306.62000000013</td>\n",
       "        </tr>\n",
       "        <tr>\n",
       "            <td>TARGET</td>\n",
       "            <td>84588.84000000036</td>\n",
       "        </tr>\n",
       "        <tr>\n",
       "            <td>CHASE</td>\n",
       "            <td>68176.92</td>\n",
       "        </tr>\n",
       "        <tr>\n",
       "            <td>LOWE&#x27;S HOME IMPROVEMENT</td>\n",
       "            <td>65731.87000000004</td>\n",
       "        </tr>\n",
       "    </tbody>\n",
       "</table>"
      ],
      "text/plain": [
       "[('WALMART', 383000.0499999999),\n",
       " ('BURLINGTON', 158594.0500000001),\n",
       " ('THE HOME DEPOT', 144646.99000000005),\n",
       " ('COSTCO', 131248.31999999992),\n",
       " ('380 LENOX MEAT CORPORATION', 125721.85000000002),\n",
       " ('AMAZON', 105638.49000000129),\n",
       " (\"SAM'S CLUB\", 95306.62000000013),\n",
       " ('TARGET', 84588.84000000036),\n",
       " ('CHASE', 68176.92),\n",
       " (\"LOWE'S HOME IMPROVEMENT\", 65731.87000000004)]"
      ]
     },
     "execution_count": 2,
     "metadata": {},
     "output_type": "execute_result"
    }
   ],
   "source": [
    "%%sql \n",
    "\n",
    "SELECT r.STORE_NAME as store, SUM(r.TOTAL_SPENT) as price\n",
    "FROM receipts r\n",
    "GROUP BY r.STORE_NAME\n",
    "ORDER BY price DESC\n",
    "LIMIT 10"
   ]
  },
  {
   "cell_type": "code",
   "execution_count": 35,
   "id": "868ae7df",
   "metadata": {},
   "outputs": [
    {
     "name": "stdout",
     "output_type": "stream",
     "text": [
      " * sqlite:///fetchAssignment.db\n",
      "Done.\n"
     ]
    },
    {
     "data": {
      "text/plain": [
       "Text(0.5, 1.0, 'Burlington Sales')"
      ]
     },
     "execution_count": 35,
     "metadata": {},
     "output_type": "execute_result"
    },
    {
     "data": {
      "image/png": "[encoded data removed]",
      "text/plain": [
       "<Figure size 432x288 with 1 Axes>"
      ]
     },
     "metadata": {
      "needs_background": "light"
     },
     "output_type": "display_data"
    }
   ],
   "source": [
    "\n",
    "\n",
    "output = %sql SELECT strftime('%m', r.PURCHASE_DATE) as month, SUM(r.TOTAL_SPENT) as price FROM receipts r WHERE r.STORE_NAME = 'BURLINGTON' GROUP BY month\n",
    "\n",
    "X = []\n",
    "Y = []\n",
    "for ele in output:\n",
    "    X.append(ele[0])\n",
    "    Y.append(ele[1])\n",
    "\n",
    "import matplotlib.pyplot as plt\n",
    "\n",
    "plt.plot(X, Y)\n",
    "plt.xlabel(\"Month\")\n",
    "plt.ylabel(\"Sales\")\n",
    "plt.title(\"Burlington Sales\")\n"
   ]
  },
  {
   "cell_type": "code",
   "execution_count": 4,
   "id": "b5606d58",
   "metadata": {},
   "outputs": [
    {
     "name": "stdout",
     "output_type": "stream",
     "text": [
      " * sqlite:///fetchAssignment.db\n",
      "Done.\n"
     ]
    },
    {
     "data": {
      "text/html": [
       "<table>\n",
       "    <thead>\n",
       "        <tr>\n",
       "            <th>month</th>\n",
       "            <th>price</th>\n",
       "        </tr>\n",
       "    </thead>\n",
       "    <tbody>\n",
       "        <tr>\n",
       "            <td>None</td>\n",
       "            <td>26124.90000000002</td>\n",
       "        </tr>\n",
       "        <tr>\n",
       "            <td>01</td>\n",
       "            <td>190278.86000000007</td>\n",
       "        </tr>\n",
       "        <tr>\n",
       "            <td>02</td>\n",
       "            <td>147216.54000000007</td>\n",
       "        </tr>\n",
       "        <tr>\n",
       "            <td>03</td>\n",
       "            <td>190359.90999999983</td>\n",
       "        </tr>\n",
       "        <tr>\n",
       "            <td>04</td>\n",
       "            <td>192707.45000000103</td>\n",
       "        </tr>\n",
       "        <tr>\n",
       "            <td>05</td>\n",
       "            <td>234816.03999999992</td>\n",
       "        </tr>\n",
       "        <tr>\n",
       "            <td>06</td>\n",
       "            <td>253319.00999999943</td>\n",
       "        </tr>\n",
       "        <tr>\n",
       "            <td>07</td>\n",
       "            <td>385498.8799999959</td>\n",
       "        </tr>\n",
       "        <tr>\n",
       "            <td>08</td>\n",
       "            <td>409344.27999999805</td>\n",
       "        </tr>\n",
       "        <tr>\n",
       "            <td>09</td>\n",
       "            <td>248913.8300000003</td>\n",
       "        </tr>\n",
       "        <tr>\n",
       "            <td>10</td>\n",
       "            <td>281270.9800000002</td>\n",
       "        </tr>\n",
       "        <tr>\n",
       "            <td>11</td>\n",
       "            <td>350053.9499999972</td>\n",
       "        </tr>\n",
       "        <tr>\n",
       "            <td>12</td>\n",
       "            <td>412415.6499999951</td>\n",
       "        </tr>\n",
       "    </tbody>\n",
       "</table>"
      ],
      "text/plain": [
       "[(None, 26124.90000000002),\n",
       " ('01', 190278.86000000007),\n",
       " ('02', 147216.54000000007),\n",
       " ('03', 190359.90999999983),\n",
       " ('04', 192707.45000000103),\n",
       " ('05', 234816.03999999992),\n",
       " ('06', 253319.00999999943),\n",
       " ('07', 385498.8799999959),\n",
       " ('08', 409344.27999999805),\n",
       " ('09', 248913.8300000003),\n",
       " ('10', 281270.9800000002),\n",
       " ('11', 350053.9499999972),\n",
       " ('12', 412415.6499999951)]"
      ]
     },
     "execution_count": 4,
     "metadata": {},
     "output_type": "execute_result"
    }
   ],
   "source": [
    "%%sql \n",
    "\n",
    "SELECT strftime('%m', r.PURCHASE_DATE) as month, SUM(r.TOTAL_SPENT) as price\n",
    "FROM receipts r\n",
    "GROUP BY month"
   ]
  },
  {
   "cell_type": "code",
   "execution_count": 13,
   "id": "68ef8019",
   "metadata": {},
   "outputs": [
    {
     "name": "stdout",
     "output_type": "stream",
     "text": [
      " * sqlite:///fetchAssignment.db\n",
      "Done.\n"
     ]
    },
    {
     "data": {
      "text/html": [
       "<table>\n",
       "    <thead>\n",
       "        <tr>\n",
       "            <th>count(*)</th>\n",
       "        </tr>\n",
       "    </thead>\n",
       "    <tbody>\n",
       "        <tr>\n",
       "            <td>34708</td>\n",
       "        </tr>\n",
       "    </tbody>\n",
       "</table>"
      ],
      "text/plain": [
       "[(34708,)]"
      ]
     },
     "execution_count": 13,
     "metadata": {},
     "output_type": "execute_result"
    }
   ],
   "source": [
    "%%sql\n",
    "\n",
    "select count(*)\n",
    "from brands b, receipt_items u\n",
    "where u.BRAND_CODE = b.BRAND_CODE"
   ]
  },
  {
   "cell_type": "code",
   "execution_count": 14,
   "id": "59299084",
   "metadata": {},
   "outputs": [
    {
     "name": "stdout",
     "output_type": "stream",
     "text": [
      " * sqlite:///fetchAssignment.db\n",
      "Done.\n"
     ]
    },
    {
     "data": {
      "text/html": [
       "<table>\n",
       "    <thead>\n",
       "        <tr>\n",
       "            <th>count(*)</th>\n",
       "        </tr>\n",
       "    </thead>\n",
       "    <tbody>\n",
       "        <tr>\n",
       "            <td>360377</td>\n",
       "        </tr>\n",
       "    </tbody>\n",
       "</table>"
      ],
      "text/plain": [
       "[(360377,)]"
      ]
     },
     "execution_count": 14,
     "metadata": {},
     "output_type": "execute_result"
    }
   ],
   "source": [
    "%%sql\n",
    "\n",
    "select count(*)\n",
    "from receipt_items u\n"
   ]
  },
  {
   "cell_type": "code",
   "execution_count": 23,
   "id": "7f10ca97",
   "metadata": {},
   "outputs": [
    {
     "name": "stdout",
     "output_type": "stream",
     "text": [
      " * sqlite:///fetchAssignment.db\n",
      "Done.\n"
     ]
    },
    {
     "data": {
      "text/html": [
       "<table>\n",
       "    <thead>\n",
       "        <tr>\n",
       "            <th>NAME</th>\n",
       "        </tr>\n",
       "    </thead>\n",
       "    <tbody>\n",
       "        <tr>\n",
       "            <td>Mott&#x27;s Fruit Snacks</td>\n",
       "        </tr>\n",
       "        <tr>\n",
       "            <td>LYSOL® NEUTRA-AIR</td>\n",
       "        </tr>\n",
       "        <tr>\n",
       "            <td>Pillsbury Magazine</td>\n",
       "        </tr>\n",
       "        <tr>\n",
       "            <td>Mott&#x27;s Fruit Snacks</td>\n",
       "        </tr>\n",
       "        <tr>\n",
       "            <td>Monster</td>\n",
       "        </tr>\n",
       "    </tbody>\n",
       "</table>"
      ],
      "text/plain": [
       "[(\"Mott's Fruit Snacks\",),\n",
       " ('LYSOL® NEUTRA-AIR',),\n",
       " ('Pillsbury Magazine',),\n",
       " (\"Mott's Fruit Snacks\",),\n",
       " ('Monster',)]"
      ]
     },
     "execution_count": 23,
     "metadata": {},
     "output_type": "execute_result"
    }
   ],
   "source": [
    "%%sql\n",
    "\n",
    "select b.NAME\n",
    "from brands b, receipt_items u\n",
    "where u.BARCODE = b.BARCODE AND u.BRAND_CODE != b.BRAND_CODE\n",
    "LIMIT 5"
   ]
  },
  {
   "cell_type": "code",
   "execution_count": 21,
   "id": "0ba8d8ba",
   "metadata": {},
   "outputs": [
    {
     "name": "stdout",
     "output_type": "stream",
     "text": [
      " * sqlite:///fetchAssignment.db\n",
      "Done.\n"
     ]
    },
    {
     "data": {
      "text/html": [
       "<table>\n",
       "    <thead>\n",
       "        <tr>\n",
       "            <th>count(*)</th>\n",
       "        </tr>\n",
       "    </thead>\n",
       "    <tbody>\n",
       "        <tr>\n",
       "            <td>4029</td>\n",
       "        </tr>\n",
       "    </tbody>\n",
       "</table>"
      ],
      "text/plain": [
       "[(4029,)]"
      ]
     },
     "execution_count": 21,
     "metadata": {},
     "output_type": "execute_result"
    }
   ],
   "source": [
    "%%sql\n",
    "\n",
    "select count(*)\n",
    "from brands b, receipt_items u\n",
    "where u.BARCODE = b.BARCODE"
   ]
  }
 ],
 "metadata": {
  "kernelspec": {
   "display_name": "Python 3 (ipykernel)",
   "language": "python",
   "name": "python3"
  },
  "language_info": {
   "codemirror_mode": {
    "name": "ipython",
    "version": 3
   },
   "file_extension": ".py",
   "mimetype": "text/x-python",
   "name": "python",
   "nbconvert_exporter": "python",
   "pygments_lexer": "ipython3",
   "version": "3.9.12"
  }
 },
 "nbformat": 4,
 "nbformat_minor": 5
}
