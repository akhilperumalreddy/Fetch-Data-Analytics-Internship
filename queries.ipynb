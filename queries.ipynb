{
 "cells": [
  {
   "cell_type": "markdown",
   "id": "2105a4d4",
   "metadata": {},
   "source": [
    "If you do not have this extension installed please type \n",
    "\n",
    "pip install ipython-sql"
   ]
  },
  {
   "cell_type": "code",
   "execution_count": 1,
   "id": "d2a6f33c",
   "metadata": {},
   "outputs": [
    {
     "data": {
      "text/plain": [
       "'Connected: @fetchAssignment.db'"
      ]
     },
     "execution_count": 1,
     "metadata": {},
     "output_type": "execute_result"
    }
   ],
   "source": [
    "import sqlite3\n",
    "conn = sqlite3.connect('fetchAssignment.db')\n",
    "\n",
    "df = pd.read_csv('brands_new.csv')\n",
    "df.to_sql('brands', conn, if_exists='replace', index=False)\n",
    "\n",
    "df = pd.read_csv('receipts_new.csv')\n",
    "df.to_sql('receipts', conn, if_exists='replace', index=False)\n",
    "\n",
    "df = pd.read_csv('users_new.csv')\n",
    "df.to_sql('users', conn, if_exists='replace', index=False)\n",
    "\n",
    "df = pd.read_csv('receipt_items_new.csv')\n",
    "df.to_sql('receipt_items', conn, if_exists='replace', index=False)\n",
    "\n",
    "cursor = conn.cursor()\n",
    "\n",
    "%load_ext sql\n",
    "%sql sqlite:///fetchAssignment.db"
   ]
  },
  {
   "cell_type": "code",
   "execution_count": 8,
   "id": "e242e79b",
   "metadata": {},
   "outputs": [
    {
     "name": "stdout",
     "output_type": "stream",
     "text": [
      " * sqlite:///fetchAssignment.db\n",
      "Done.\n"
     ]
    },
    {
     "data": {
      "text/html": [
       "<table>\n",
       "    <thead>\n",
       "        <tr>\n",
       "            <th>name</th>\n",
       "            <th>price</th>\n",
       "        </tr>\n",
       "    </thead>\n",
       "    <tbody>\n",
       "        <tr>\n",
       "            <td>KIRKLAND SIGNATURE</td>\n",
       "            <td>2571.8299999999977</td>\n",
       "        </tr>\n",
       "    </tbody>\n",
       "</table>"
      ],
      "text/plain": [
       "[('KIRKLAND SIGNATURE', 2571.8299999999977)]"
      ]
     },
     "execution_count": 8,
     "metadata": {},
     "output_type": "execute_result"
    }
   ],
   "source": [
    "%%sql\n",
    "\n",
    "SELECT ri.BRAND_CODE as name, SUM(ri.TOTAL_FINAL_PRICE) as price\n",
    "FROM  receipt_items ri, receipts r\n",
    "WHERE r.ID = ri.REWARDS_RECEIPT_ID AND strftime('%m', r.PURCHASE_DATE) = '06' AND ri.BRAND_CODE is not NULL\n",
    "GROUP BY ri.BRAND_CODE\n",
    "ORDER BY price DESC\n",
    "LIMIT 1"
   ]
  },
  {
   "cell_type": "code",
   "execution_count": 3,
   "id": "5eaf2516",
   "metadata": {},
   "outputs": [
    {
     "name": "stdout",
     "output_type": "stream",
     "text": [
      " * sqlite:///fetchAssignment.db\n",
      "Done.\n"
     ]
    },
    {
     "data": {
      "text/html": [
       "<table>\n",
       "    <thead>\n",
       "        <tr>\n",
       "            <th>user_id</th>\n",
       "            <th>price</th>\n",
       "        </tr>\n",
       "    </thead>\n",
       "    <tbody>\n",
       "        <tr>\n",
       "            <td>609ab37f7a2e8f2f95ae968f</td>\n",
       "            <td>157739.13999999998</td>\n",
       "        </tr>\n",
       "    </tbody>\n",
       "</table>"
      ],
      "text/plain": [
       "[('609ab37f7a2e8f2f95ae968f', 157739.13999999998)]"
      ]
     },
     "execution_count": 3,
     "metadata": {},
     "output_type": "execute_result"
    }
   ],
   "source": [
    "%%sql\n",
    "\n",
    "SELECT u.ID as user_id, SUM(r.TOTAL_SPENT) as price\n",
    "FROM receipts r, users u\n",
    "WHERE u.ID= r.USER_ID AND strftime('%m', r.PURCHASE_DATE) = '08'\n",
    "GROUP BY r.USER_ID \n",
    "ORDER BY price DESC\n",
    "LIMIT 1"
   ]
  },
  {
   "cell_type": "code",
   "execution_count": 4,
   "id": "bc40cd42",
   "metadata": {},
   "outputs": [
    {
     "name": "stdout",
     "output_type": "stream",
     "text": [
      " * sqlite:///fetchAssignment.db\n",
      "Done.\n"
     ]
    },
    {
     "data": {
      "text/html": [
       "<table>\n",
       "    <thead>\n",
       "        <tr>\n",
       "            <th>user_id</th>\n",
       "            <th>price</th>\n",
       "            <th>BRAND_CODE</th>\n",
       "        </tr>\n",
       "    </thead>\n",
       "    <tbody>\n",
       "        <tr>\n",
       "            <td>617376b8a9619d488190e0b6</td>\n",
       "            <td>31005.99</td>\n",
       "            <td>STARBUCKS</td>\n",
       "        </tr>\n",
       "        <tr>\n",
       "            <td>617376b8a9619d488190e0b6</td>\n",
       "            <td>31005.99</td>\n",
       "            <td>STARBUCKS</td>\n",
       "        </tr>\n",
       "    </tbody>\n",
       "</table>"
      ],
      "text/plain": [
       "[('617376b8a9619d488190e0b6', 31005.99, 'STARBUCKS'),\n",
       " ('617376b8a9619d488190e0b6', 31005.99, 'STARBUCKS')]"
      ]
     },
     "execution_count": 4,
     "metadata": {},
     "output_type": "execute_result"
    }
   ],
   "source": [
    "%%sql\n",
    "\n",
    "SELECT r.USER_ID as user_id, (ri.TOTAL_FINAL_PRICE/ri.QUANTITY_PURCHASED) as price, ri.BRAND_CODE\n",
    "FROM receipt_items ri, receipts r\n",
    "WHERE r.ID = ri.REWARDS_RECEIPT_ID AND ri.QUANTITY_PURCHASED is not NULL AND price >= (\n",
    "    SELECT  MAX(ri.TOTAL_FINAL_PRICE/ri.QUANTITY_PURCHASED)\n",
    "FROM receipt_items ri, receipts r\n",
    "WHERE r.ID = ri.REWARDS_RECEIPT_ID AND ri.QUANTITY_PURCHASED is not NULL\n",
    ")\n",
    "ORDER BY price DESC\n"
   ]
  },
  {
   "cell_type": "code",
   "execution_count": 5,
   "id": "e19543c5",
   "metadata": {},
   "outputs": [
    {
     "name": "stdout",
     "output_type": "stream",
     "text": [
      " * sqlite:///fetchAssignment.db\n",
      "Done.\n"
     ]
    },
    {
     "data": {
      "text/html": [
       "<table>\n",
       "    <thead>\n",
       "        <tr>\n",
       "            <th>item</th>\n",
       "            <th>price</th>\n",
       "        </tr>\n",
       "    </thead>\n",
       "    <tbody>\n",
       "        <tr>\n",
       "            <td>Starbucks</td>\n",
       "            <td>31005.99</td>\n",
       "        </tr>\n",
       "    </tbody>\n",
       "</table>"
      ],
      "text/plain": [
       "[('Starbucks', 31005.99)]"
      ]
     },
     "execution_count": 5,
     "metadata": {},
     "output_type": "execute_result"
    }
   ],
   "source": [
    "%%sql\n",
    "\n",
    "SELECT  b.NAME as item , (ri.TOTAL_FINAL_PRICE/ri.QUANTITY_PURCHASED) as price\n",
    "FROM brands b, receipt_items ri, receipts r\n",
    "WHERE b.BRAND_CODE = ri.BRAND_CODE AND r.ID = ri.REWARDS_RECEIPT_ID AND ri.QUANTITY_PURCHASED is not NULL\n",
    "ORDER BY price DESC\n",
    "LIMIT 1"
   ]
  },
  {
   "cell_type": "code",
   "execution_count": 6,
   "id": "4fd395ff",
   "metadata": {},
   "outputs": [
    {
     "name": "stdout",
     "output_type": "stream",
     "text": [
      " * sqlite:///fetchAssignment.db\n",
      "Done.\n"
     ]
    },
    {
     "data": {
      "text/html": [
       "<table>\n",
       "    <thead>\n",
       "        <tr>\n",
       "            <th>month</th>\n",
       "            <th>number_of_users</th>\n",
       "            <th>number_of_dist_users</th>\n",
       "        </tr>\n",
       "    </thead>\n",
       "    <tbody>\n",
       "        <tr>\n",
       "            <td>01</td>\n",
       "            <td>3819</td>\n",
       "            <td>97</td>\n",
       "        </tr>\n",
       "        <tr>\n",
       "            <td>02</td>\n",
       "            <td>3668</td>\n",
       "            <td>89</td>\n",
       "        </tr>\n",
       "        <tr>\n",
       "            <td>03</td>\n",
       "            <td>4762</td>\n",
       "            <td>89</td>\n",
       "        </tr>\n",
       "        <tr>\n",
       "            <td>04</td>\n",
       "            <td>4738</td>\n",
       "            <td>90</td>\n",
       "        </tr>\n",
       "        <tr>\n",
       "            <td>05</td>\n",
       "            <td>5344</td>\n",
       "            <td>89</td>\n",
       "        </tr>\n",
       "        <tr>\n",
       "            <td>06</td>\n",
       "            <td>5215</td>\n",
       "            <td>89</td>\n",
       "        </tr>\n",
       "        <tr>\n",
       "            <td>07</td>\n",
       "            <td>5927</td>\n",
       "            <td>89</td>\n",
       "        </tr>\n",
       "        <tr>\n",
       "            <td>08</td>\n",
       "            <td>6102</td>\n",
       "            <td>91</td>\n",
       "        </tr>\n",
       "        <tr>\n",
       "            <td>09</td>\n",
       "            <td>6295</td>\n",
       "            <td>90</td>\n",
       "        </tr>\n",
       "        <tr>\n",
       "            <td>10</td>\n",
       "            <td>7014</td>\n",
       "            <td>94</td>\n",
       "        </tr>\n",
       "        <tr>\n",
       "            <td>11</td>\n",
       "            <td>7481</td>\n",
       "            <td>97</td>\n",
       "        </tr>\n",
       "        <tr>\n",
       "            <td>12</td>\n",
       "            <td>8170</td>\n",
       "            <td>99</td>\n",
       "        </tr>\n",
       "    </tbody>\n",
       "</table>"
      ],
      "text/plain": [
       "[('01', 3819, 97),\n",
       " ('02', 3668, 89),\n",
       " ('03', 4762, 89),\n",
       " ('04', 4738, 90),\n",
       " ('05', 5344, 89),\n",
       " ('06', 5215, 89),\n",
       " ('07', 5927, 89),\n",
       " ('08', 6102, 91),\n",
       " ('09', 6295, 90),\n",
       " ('10', 7014, 94),\n",
       " ('11', 7481, 97),\n",
       " ('12', 8170, 99)]"
      ]
     },
     "execution_count": 6,
     "metadata": {},
     "output_type": "execute_result"
    }
   ],
   "source": [
    "%%sql\n",
    "\n",
    "SELECT strftime('%m', r.PURCHASE_DATE) as month, COUNT(u.ID) as number_of_users, COUNT(DISTINCT u.ID) as number_of_dist_users\n",
    "FROM users u, receipts r\n",
    "WHERE u.ID = r.USER_ID AND r.PURCHASE_DATE is not NULL\n",
    "GROUP BY month"
   ]
  }
 ],
 "metadata": {
  "kernelspec": {
   "display_name": "Python 3 (ipykernel)",
   "language": "python",
   "name": "python3"
  },
  "language_info": {
   "codemirror_mode": {
    "name": "ipython",
    "version": 3
   },
   "file_extension": ".py",
   "mimetype": "text/x-python",
   "name": "python",
   "nbconvert_exporter": "python",
   "pygments_lexer": "ipython3",
   "version": "3.9.12"
  }
 },
 "nbformat": 4,
 "nbformat_minor": 5
}
